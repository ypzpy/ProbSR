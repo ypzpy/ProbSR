{
 "cells": [
  {
   "cell_type": "code",
   "execution_count": 1,
   "metadata": {},
   "outputs": [],
   "source": [
    "import os\n",
    "os.environ['OMP_NUM_THREADS']='2'\n",
    "os.environ['LD_LIBRARY_PATH']=''\n",
    "os.environ['CUDA_LAUNCH_BLOCKING']='1'"
   ]
  },
  {
   "cell_type": "code",
   "execution_count": 2,
   "metadata": {},
   "outputs": [
    {
     "name": "stdout",
     "output_type": "stream",
     "text": [
      "/home/pengyu.zhang/project/superres/ProbSR/Experiment2\n"
     ]
    }
   ],
   "source": [
    "%cd /home/pengyu.zhang/project/superres/ProbSR/Experiment2"
   ]
  },
  {
   "cell_type": "code",
   "execution_count": 3,
   "metadata": {},
   "outputs": [],
   "source": [
    "from data_generation import *\n",
    "from scipy.linalg import sqrtm\n",
    "from downscaling import *\n",
    "from utils import *\n",
    "import random"
   ]
  },
  {
   "cell_type": "markdown",
   "metadata": {},
   "source": [
    "## Generate Training Data"
   ]
  },
  {
   "cell_type": "code",
   "execution_count": null,
   "metadata": {},
   "outputs": [],
   "source": [
    "N_low = 40\n",
    "N_high = 160\n",
    "scale = 4\n",
    "\n",
    "# Code downscaling matrix\n",
    "H = np.zeros((N_low*N_low, N_high*N_high))\n",
    "\n",
    "submatrix = np.zeros((N_low,N_high))\n",
    "for i in range(N_low):\n",
    "    submatrix[i,scale*i] = 1\n",
    "    \n",
    "for j in range(N_low):\n",
    "    H[N_low*j:N_low*(j+1),N_high*scale*j:N_high*(scale*j+1)] = submatrix\n",
    "    \n",
    "for i in tqdm(range(1000)):\n",
    "    a = random.uniform(-4,4)\n",
    "    b = random.uniform(-3,3)\n",
    "    c = random.uniform(0,3)\n",
    "    d = random.uniform(-2,2)\n",
    "    w_low = generate_data(N_low,a,b,c,d)[0]\n",
    "    w_high = generate_data(N_high,a,b,c,d)[0]\n",
    "    # residual = w_low-(H@w_high.reshape(N_high*N_high)).reshape(N_low,N_low)\n",
    "    residual = w_low - cv2.resize(w_high,(N_low,N_low),interpolation=cv2.INTER_CUBIC)\n",
    "    \n",
    "    if i == 0:\n",
    "        total_low = w_low.reshape(1,N_low,N_low)\n",
    "        total_high = w_high.reshape(1,N_high,N_high)\n",
    "        total_residual = residual.reshape(1,N_low,N_low)\n",
    "    else:\n",
    "        total_low = np.concatenate([total_low,w_low.reshape(1,N_low,N_low)],axis=0)\n",
    "        total_high = np.concatenate([total_high,w_high.reshape(1,N_high,N_high)],axis=0)\n",
    "        total_residual = np.concatenate([total_residual,residual.reshape(1,N_low,N_low)],axis=0)"
   ]
  },
  {
   "cell_type": "code",
   "execution_count": 13,
   "metadata": {},
   "outputs": [],
   "source": [
    "with h5py.File(\"DownBy4_40_160_bicubic.h5\", 'w') as hf:\n",
    "    hf.create_dataset(\"high_res\",  data=total_high)\n",
    "    hf.create_dataset(\"low_res\",  data=total_low)\n",
    "    hf.create_dataset(\"residual\", data=total_residual)"
   ]
  },
  {
   "cell_type": "code",
   "execution_count": 7,
   "metadata": {},
   "outputs": [
    {
     "data": {
      "text/plain": [
       "(400,)"
      ]
     },
     "execution_count": 7,
     "metadata": {},
     "output_type": "execute_result"
    }
   ],
   "source": [
    "create_forcing_term(20,8,3,3).shape"
   ]
  },
  {
   "cell_type": "code",
   "execution_count": 5,
   "metadata": {},
   "outputs": [
    {
     "name": "stderr",
     "output_type": "stream",
     "text": [
      "100%|██████████| 1000/1000 [03:10<00:00,  5.25it/s]\n"
     ]
    }
   ],
   "source": [
    "N_low = 50\n",
    "N_high = 200\n",
    "scale = 4\n",
    "\n",
    "# Code downscaling matrix\n",
    "H = np.zeros((N_low*N_low, N_high*N_high))\n",
    "\n",
    "submatrix = np.zeros((N_low,N_high))\n",
    "for i in range(N_low):\n",
    "    submatrix[i,scale*i] = 1\n",
    "    \n",
    "for j in range(N_low):\n",
    "    H[N_low*j:N_low*(j+1),N_high*scale*j:N_high*(scale*j+1)] = submatrix\n",
    "    \n",
    "for i in tqdm(range(1000)):\n",
    "    a = random.uniform(-4,4)\n",
    "    b = random.uniform(-3,3)\n",
    "    c = random.uniform(0,3)\n",
    "    d = random.uniform(-2,2)\n",
    "    w_low = generate_data(N_low,a,b,c,d)[0]\n",
    "    b_high = create_forcing_term(N_high,a,b,c,d)\n",
    "    \n",
    "    if i==0:\n",
    "        total_low = w_low.reshape(1,N_low,N_low)\n",
    "        total_forcing = b_high.reshape(1,N_high**2,1)\n",
    "    else:\n",
    "        total_low = np.concatenate([total_low,w_low.reshape(1,N_low,N_low)],axis=0)\n",
    "        total_forcing = np.concatenate([total_forcing,b_high.reshape(1,N_high**2,1)],axis=0)"
   ]
  },
  {
   "cell_type": "code",
   "execution_count": 6,
   "metadata": {},
   "outputs": [],
   "source": [
    "with h5py.File(\"data/50_200_low_forcing.h5\", 'w') as hf:\n",
    "    hf.create_dataset(\"low_res\",  data=total_low)\n",
    "    hf.create_dataset(\"forcing\", data=total_forcing)"
   ]
  },
  {
   "cell_type": "code",
   "execution_count": null,
   "metadata": {},
   "outputs": [],
   "source": []
  },
  {
   "cell_type": "code",
   "execution_count": null,
   "metadata": {},
   "outputs": [],
   "source": []
  }
 ],
 "metadata": {
  "kernelspec": {
   "display_name": "torch",
   "language": "python",
   "name": "python3"
  },
  "language_info": {
   "codemirror_mode": {
    "name": "ipython",
    "version": 3
   },
   "file_extension": ".py",
   "mimetype": "text/x-python",
   "name": "python",
   "nbconvert_exporter": "python",
   "pygments_lexer": "ipython3",
   "version": "3.9.0"
  }
 },
 "nbformat": 4,
 "nbformat_minor": 2
}
