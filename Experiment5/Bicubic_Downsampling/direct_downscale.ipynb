{
 "cells": [
  {
   "cell_type": "code",
   "execution_count": 1,
   "metadata": {},
   "outputs": [],
   "source": [
    "import os\n",
    "os.environ['OMP_NUM_THREADS']='2'\n",
    "os.environ['LD_LIBRARY_PATH']=''\n",
    "os.environ['CUDA_LAUNCH_BLOCKING']='1'"
   ]
  },
  {
   "cell_type": "code",
   "execution_count": 2,
   "metadata": {},
   "outputs": [
    {
     "name": "stdout",
     "output_type": "stream",
     "text": [
      "/home/pengyu.zhang/project/superres/ProbSR/Experiment5\n"
     ]
    }
   ],
   "source": [
    "%cd /home/pengyu.zhang/project/superres/ProbSR/Experiment5"
   ]
  },
  {
   "cell_type": "code",
   "execution_count": 3,
   "metadata": {},
   "outputs": [],
   "source": [
    "from data_generation import *\n",
    "from downscaling import *\n",
    "import cv2\n",
    "import torchvision.transforms as T\n",
    "import torch.nn.functional as F\n",
    "import time\n",
    "import numpy as np\n",
    "import scipy.ndimage\n",
    "from scipy.ndimage import gaussian_filter"
   ]
  },
  {
   "cell_type": "markdown",
   "metadata": {},
   "source": [
    "## Bicubic interpolation downscale"
   ]
  },
  {
   "cell_type": "markdown",
   "metadata": {},
   "source": [
    "### Upscale by 4"
   ]
  },
  {
   "cell_type": "code",
   "execution_count": 4,
   "metadata": {},
   "outputs": [],
   "source": [
    "N_low = 17\n",
    "N_high = 65\n",
    "scale = 4\n",
    "a, b, c, d = 1,1,1,0\n",
    "\n",
    "h_low = 1/(N_low-1)\n",
    "x_low = np.arange(0,1.0001,h_low)\n",
    "y_low = np.arange(0,1.0001,h_low)\n",
    "z_low = np.arange(0,1.0001,h_low)\n",
    "\n",
    "h_high = 1/(N_high-1)\n",
    "x_high = np.arange(0,1.0001,h_high)\n",
    "y_high = np.arange(0,1.0001,h_high)\n",
    "z_high = np.arange(0,1.0001,h_high)"
   ]
  },
  {
   "cell_type": "code",
   "execution_count": 5,
   "metadata": {},
   "outputs": [
    {
     "name": "stderr",
     "output_type": "stream",
     "text": [
      "/home/pengyu.zhang/project/superres/ProbSR/Experiment5/data_generation.py:188: SparseEfficiencyWarning: spsolve requires A be CSC or CSR matrix format\n",
      "  w = linalg.spsolve(A,r).reshape((N,N,N))\n"
     ]
    }
   ],
   "source": [
    "w_low, r_low, A_low, x_low, y_low, z_low = generate_data(N_low,a,b,c,d)\n",
    "w_high, r_high, A_high, x_high, y_high, z_high = generate_data(N_high,a,b,c,d)"
   ]
  },
  {
   "cell_type": "code",
   "execution_count": 6,
   "metadata": {},
   "outputs": [
    {
     "name": "stderr",
     "output_type": "stream",
     "text": [
      "/tmp/ipykernel_1841725/3663376570.py:2: SparseEfficiencyWarning: spsolve requires A be CSC or CSR matrix format\n",
      "  w = linalg.spsolve(A_high,r_high).reshape((N_high,N_high,N_high))\n"
     ]
    },
    {
     "name": "stdout",
     "output_type": "stream",
     "text": [
      "369.12828826904297\n"
     ]
    }
   ],
   "source": [
    "start = time.time()\n",
    "w = linalg.spsolve(A_high,r_high).reshape((N_high,N_high,N_high))\n",
    "end = time.time()\n",
    "\n",
    "print(end-start)"
   ]
  },
  {
   "cell_type": "code",
   "execution_count": 54,
   "metadata": {},
   "outputs": [],
   "source": [
    "w_low_matrix = np.zeros((16,16,16))\n",
    "for i in range(16):\n",
    "    for j in range(16):\n",
    "        for k in range(16):\n",
    "            w_low_matrix[i][j][k] = w_high[4*i][4*j][4*k]"
   ]
  },
  {
   "cell_type": "code",
   "execution_count": 55,
   "metadata": {},
   "outputs": [],
   "source": [
    "w_low_bicubic = scipy.ndimage.zoom(w_high, [16/61,16/61,16/61], order=3)"
   ]
  },
  {
   "cell_type": "code",
   "execution_count": 7,
   "metadata": {},
   "outputs": [],
   "source": [
    "device = torch.device('cuda' if torch.cuda.is_available() else 'cpu')\n",
    "\n",
    "# Parameters for prior variance\n",
    "prior_sigma = 0.0001\n",
    "ll_sigma = 0.001"
   ]
  },
  {
   "cell_type": "code",
   "execution_count": 8,
   "metadata": {},
   "outputs": [],
   "source": [
    "operator = (A_high.T) * (1/prior_sigma**2)\n",
    "b_high = create_forcing_term(N_high,a,b,c,d)"
   ]
  },
  {
   "cell_type": "code",
   "execution_count": 9,
   "metadata": {},
   "outputs": [
    {
     "name": "stdout",
     "output_type": "stream",
     "text": [
      "37.939939975738525\n"
     ]
    }
   ],
   "source": [
    "# Parameters for Langevin dynamics\n",
    "K = 1000\n",
    "s = 0.00001\n",
    "\n",
    "x = torch.tensor(w_low).to(torch.float32)\n",
    "chains_evolution = []\n",
    "# z = F.interpolate(x.reshape(1,1,N_low,N_low,N_low),(N_high,N_high,N_high),mode='trilinear').reshape(N_high,N_high,N_high)\n",
    "SR = scipy.ndimage.zoom(w_low, [65/17,65/17,65/17], order=3)\n",
    "z = torch.tensor(SR).to(torch.float32)\n",
    "z = z.clone().detach().requires_grad_(True)\n",
    "\n",
    "startTime = time.time()\n",
    "\n",
    "for i in range(K):\n",
    "    # Grad log-likelihood\n",
    "    x_hat = F.interpolate(z.reshape(1,1,N_high,N_high,N_high),(N_low,N_low,N_low),mode='trilinear').reshape(N_low,N_low,N_low)\n",
    "    log_likelihood = (-1/(2*math.pow(ll_sigma, 2)) * torch.matmul((x-x_hat).reshape(1,N_low**3),(x-x_hat).reshape(N_low**3,1)))\n",
    "    grad_ll = torch.autograd.grad(log_likelihood, z)[0]\n",
    "\n",
    "    # startTime = time.time()\n",
    "    # Grad prior\n",
    "    difference = A_high.dot(z.cpu().data.numpy().reshape(N_high**3,1)) - b_high.reshape(N_high**3,1)\n",
    "    grad_log_prior = (- operator.dot(difference)).reshape(N_high,N_high,N_high)\n",
    "    grad_log_prior = torch.tensor(grad_log_prior).to(torch.float32)\n",
    "    \n",
    "    # Random noise term\n",
    "    W = torch.randn(*[N_high,N_high,N_high])\n",
    "\n",
    "    z = z + 0.5 * s ** 2 * grad_log_prior + 0.5 * s ** 2 * grad_ll + s * W\n",
    "\n",
    "    if i > K-50:\n",
    "        chains_evolution.append(z.cpu().data.numpy())  \n",
    "        \n",
    "endTime = time.time()\n",
    "print(endTime-startTime) "
   ]
  },
  {
   "cell_type": "code",
   "execution_count": 10,
   "metadata": {},
   "outputs": [
    {
     "data": {
      "image/png": "[encoded data removed]",
      "text/plain": [
       "<Figure size 1400x400 with 6 Axes>"
      ]
     },
     "metadata": {},
     "output_type": "display_data"
    }
   ],
   "source": [
    "u_bicubic_sr = bicubic_3D(N_high,N_low,w_low)\n",
    "\n",
    "fig = plt.figure(figsize=(14,4))\n",
    "plt.subplot(1,3,1)\n",
    "plt.pcolormesh(x_high, y_high, u_bicubic_sr[32], cmap='rainbow')\n",
    "cbar = plt.colorbar(pad=0.05, aspect=10)\n",
    "#cbar.mappable.set_clim(-0.05, 0.05)\n",
    "plt.title('Bicubic')\n",
    "plt.xlabel('x')\n",
    "plt.ylabel('y')\n",
    "plt.subplot(1,3,2)\n",
    "plt.pcolormesh(x_high, y_high, z.cpu().data.numpy()[32], cmap='rainbow')\n",
    "cbar = plt.colorbar(pad=0.05, aspect=10)\n",
    "#cbar.mappable.set_clim(-0.05, 0.05)\n",
    "plt.title('SR')\n",
    "plt.xlabel('x')\n",
    "plt.ylabel('y')\n",
    "plt.subplot(1,3,3)\n",
    "plt.pcolormesh(x_high, y_high, w_high[32], cmap='rainbow')\n",
    "cbar = plt.colorbar(pad=0.05, aspect=10)\n",
    "#cbar.mappable.set_clim(-0.05, 0.05)\n",
    "plt.title('HR')\n",
    "plt.xlabel('x')\n",
    "plt.ylabel('y')\n",
    "plt.show()"
   ]
  },
  {
   "cell_type": "code",
   "execution_count": 14,
   "metadata": {},
   "outputs": [
    {
     "name": "stdout",
     "output_type": "stream",
     "text": [
      "SR L2 Error: 0.014058204216655759\n"
     ]
    }
   ],
   "source": [
    "error1 = abs(w_high - np.mean(chains_evolution,axis=0))\n",
    "MSE = (error1**2).sum()/error1.shape[0]**2\n",
    "print('SR L2 Error:', MSE)"
   ]
  },
  {
   "cell_type": "code",
   "execution_count": 15,
   "metadata": {},
   "outputs": [
    {
     "data": {
      "text/plain": [
       "42.645491236120854"
      ]
     },
     "execution_count": 15,
     "metadata": {},
     "output_type": "execute_result"
    }
   ],
   "source": [
    "10 * np.log(w_high.max()**2 / MSE)"
   ]
  },
  {
   "cell_type": "code",
   "execution_count": 16,
   "metadata": {},
   "outputs": [
    {
     "name": "stdout",
     "output_type": "stream",
     "text": [
      "SR L2 Error: 0.02568561134099354\n"
     ]
    }
   ],
   "source": [
    "error1 = abs(w_high - u_bicubic_sr)\n",
    "MSE = (error1**2).sum()/error1.shape[0]**2\n",
    "print('SR L2 Error:', MSE)"
   ]
  },
  {
   "cell_type": "code",
   "execution_count": 17,
   "metadata": {},
   "outputs": [
    {
     "data": {
      "text/plain": [
       "36.618243138669456"
      ]
     },
     "execution_count": 17,
     "metadata": {},
     "output_type": "execute_result"
    }
   ],
   "source": [
    "10 * np.log(w_high.max()**2 / MSE)"
   ]
  },
  {
   "cell_type": "code",
   "execution_count": null,
   "metadata": {},
   "outputs": [],
   "source": []
  }
 ],
 "metadata": {
  "kernelspec": {
   "display_name": "torch",
   "language": "python",
   "name": "python3"
  },
  "language_info": {
   "codemirror_mode": {
    "name": "ipython",
    "version": 3
   },
   "file_extension": ".py",
   "mimetype": "text/x-python",
   "name": "python",
   "nbconvert_exporter": "python",
   "pygments_lexer": "ipython3",
   "version": "3.9.0"
  }
 },
 "nbformat": 4,
 "nbformat_minor": 2
}
