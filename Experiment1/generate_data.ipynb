{
 "cells": [
  {
   "cell_type": "code",
   "execution_count": 1,
   "metadata": {},
   "outputs": [],
   "source": [
    "import os\n",
    "os.environ['OMP_NUM_THREADS']='2'\n",
    "os.environ['LD_LIBRARY_PATH']=''\n",
    "os.environ['CUDA_LAUNCH_BLOCKING']='1'"
   ]
  },
  {
   "cell_type": "code",
   "execution_count": 2,
   "metadata": {},
   "outputs": [
    {
     "name": "stdout",
     "output_type": "stream",
     "text": [
      "/home/pengyu.zhang/project/superres/ProbSR/Experiment1\n"
     ]
    }
   ],
   "source": [
    "%cd /home/pengyu.zhang/project/superres/ProbSR/Experiment1"
   ]
  },
  {
   "cell_type": "code",
   "execution_count": 3,
   "metadata": {},
   "outputs": [],
   "source": [
    "from data_generation import *\n",
    "from scipy.linalg import sqrtm\n",
    "from downscaling import *\n",
    "from utils import *"
   ]
  },
  {
   "cell_type": "markdown",
   "metadata": {},
   "source": [
    "## Generate Training Data"
   ]
  },
  {
   "cell_type": "code",
   "execution_count": 15,
   "metadata": {},
   "outputs": [
    {
     "name": "stderr",
     "output_type": "stream",
     "text": [
      "  0%|          | 0/8 [00:00<?, ?it/s]"
     ]
    },
    {
     "name": "stderr",
     "output_type": "stream",
     "text": [
      "100%|██████████| 8/8 [00:19<00:00,  2.39s/it]\n",
      "100%|██████████| 8/8 [00:19<00:00,  2.39s/it]\n",
      "100%|██████████| 8/8 [00:19<00:00,  2.39s/it]\n",
      "100%|██████████| 8/8 [00:19<00:00,  2.39s/it]\n",
      "100%|██████████| 8/8 [00:19<00:00,  2.39s/it]\n",
      "100%|██████████| 8/8 [00:19<00:00,  2.39s/it]\n",
      "100%|██████████| 8/8 [00:19<00:00,  2.39s/it]\n",
      "100%|██████████| 8/8 [00:19<00:00,  2.39s/it]\n",
      "100%|██████████| 8/8 [02:32<00:00, 19.12s/it]\n",
      "100%|██████████| 8/8 [00:19<00:00,  2.39s/it]\n",
      "100%|██████████| 8/8 [00:19<00:00,  2.39s/it]\n",
      "100%|██████████| 8/8 [00:19<00:00,  2.39s/it]\n",
      "100%|██████████| 8/8 [00:19<00:00,  2.39s/it]\n",
      "100%|██████████| 8/8 [00:19<00:00,  2.39s/it]\n",
      "100%|██████████| 8/8 [00:19<00:00,  2.39s/it]\n",
      "100%|██████████| 8/8 [00:19<00:00,  2.39s/it]\n",
      "100%|██████████| 8/8 [00:19<00:00,  2.39s/it]\n",
      "100%|██████████| 8/8 [02:32<00:00, 19.12s/it]\n"
     ]
    }
   ],
   "source": [
    "N_low = 41\n",
    "N_high = 161\n",
    "scale = 4\n",
    "\n",
    "# Code downscaling matrix\n",
    "H = np.zeros((N_low*N_low, N_high*N_high))\n",
    "\n",
    "submatrix = np.zeros((N_low,N_high))\n",
    "for i in range(N_low):\n",
    "    submatrix[i,scale*i] = 1\n",
    "    \n",
    "for j in range(N_low):\n",
    "    H[N_low*j:N_low*(j+1),N_high*scale*j:N_high*(scale*j+1)] = submatrix\n",
    "    \n",
    "for a in [4,8]:\n",
    "    for b in tqdm(range(1,9)):\n",
    "        for c in tqdm(range(1,9)):\n",
    "            w_low = generate_data(N_low,a,b,c)[0]\n",
    "            w_high = generate_data(N_high,a,b,c)[0]\n",
    "            residual = w_low-(H@w_high.reshape(N_high*N_high)).reshape(N_low,N_low)\n",
    "            # residual = w_low - cv2.resize(w_high,(N_low,N_low),interpolation=cv2.INTER_CUBIC)\n",
    "            \n",
    "            if a==4 and b == 1 and c == 1:\n",
    "                total_low = w_low.reshape(1,N_low,N_low)\n",
    "                total_high = w_high.reshape(1,N_high,N_high)\n",
    "                total_residual = residual.reshape(1,N_low,N_low)\n",
    "            else:\n",
    "                total_low = np.concatenate([total_low,w_low.reshape(1,N_low,N_low)],axis=0)\n",
    "                total_high = np.concatenate([total_high,w_high.reshape(1,N_high,N_high)],axis=0)\n",
    "                total_residual = np.concatenate([total_residual,residual.reshape(1,N_low,N_low)],axis=0)"
   ]
  },
  {
   "cell_type": "code",
   "execution_count": 6,
   "metadata": {},
   "outputs": [
    {
     "name": "stderr",
     "output_type": "stream",
     "text": [
      "100%|██████████| 8/8 [00:19<00:00,  2.45s/it]\n"
     ]
    }
   ],
   "source": [
    "N_low = 40\n",
    "N_high = 160\n",
    "scale = 4\n",
    "\n",
    "import random\n",
    "for i in tqdm(range(8)):\n",
    "    a = random.choice([4, 8])\n",
    "    b = random.randint(1, 8)\n",
    "    c = random.randint(1, 8)\n",
    "    \n",
    "    w_low = generate_data(N_low,a,b,c)[0]\n",
    "    w_high = generate_data(N_high,a,b,c)[0]\n",
    "    residual = w_low - cv2.resize(w_high,(N_low,N_low),interpolation=cv2.INTER_NEAREST)\n",
    "    \n",
    "    if i==0:\n",
    "        total_low = w_low.reshape(1,N_low,N_low)\n",
    "        total_high = w_high.reshape(1,N_high,N_high)\n",
    "        total_residual = residual.reshape(1,N_low,N_low)\n",
    "    else:\n",
    "        total_low = np.concatenate([total_low,w_low.reshape(1,N_low,N_low)],axis=0)\n",
    "        total_high = np.concatenate([total_high,w_high.reshape(1,N_high,N_high)],axis=0)\n",
    "        total_residual = np.concatenate([total_residual,residual.reshape(1,N_low,N_low)],axis=0)"
   ]
  },
  {
   "cell_type": "code",
   "execution_count": 7,
   "metadata": {},
   "outputs": [],
   "source": [
    "with h5py.File(\"data/DownBy4_40_160_small8.h5\", 'w') as hf:\n",
    "    hf.create_dataset(\"high_res\",  data=total_high)\n",
    "    hf.create_dataset(\"low_res\",  data=total_low)\n",
    "    hf.create_dataset(\"residual\", data=total_residual)"
   ]
  },
  {
   "cell_type": "code",
   "execution_count": null,
   "metadata": {},
   "outputs": [],
   "source": [
    "N_low = 40\n",
    "N_high = 160\n",
    "scale = 4\n",
    "a,b,c = 4,1,5\n",
    "\n",
    "h_low = 1/(N_low-1)\n",
    "x_low = np.arange(0,1.0001,h_low)\n",
    "y_low = np.arange(0,1.0001,h_low)\n",
    "\n",
    "h_high = 1/(N_high-1)\n",
    "x_high = np.arange(0,1.0001,h_high)\n",
    "y_high = np.arange(0,1.0001,h_high)"
   ]
  },
  {
   "cell_type": "code",
   "execution_count": 14,
   "metadata": {},
   "outputs": [
    {
     "data": {
      "image/png": "[encoded data removed]",
      "text/plain": [
       "<Figure size 900x400 with 4 Axes>"
      ]
     },
     "metadata": {},
     "output_type": "display_data"
    }
   ],
   "source": [
    "fig = plt.figure(figsize=(9,4))\n",
    "plt.subplot(1,2,1)\n",
    "plt.pcolormesh(x_low, y_low, total_low[2], cmap='rainbow')\n",
    "cbar = plt.colorbar(pad=0.05, aspect=10)\n",
    "#cbar.mappable.set_clim(-0.05, 0.05)\n",
    "plt.title('LR')\n",
    "plt.xlabel('x')\n",
    "plt.ylabel('y')\n",
    "plt.subplot(1,2,2)\n",
    "plt.pcolormesh(x_low, y_low, total_residual[2], cmap='rainbow')\n",
    "cbar = plt.colorbar(pad=0.05, aspect=10)\n",
    "#cbar.mappable.set_clim(-0.05, 0.05)\n",
    "plt.title('LR')\n",
    "plt.xlabel('x')\n",
    "plt.ylabel('y')\n",
    "plt.show()"
   ]
  },
  {
   "cell_type": "code",
   "execution_count": 8,
   "metadata": {},
   "outputs": [
    {
     "name": "stderr",
     "output_type": "stream",
     "text": [
      "100%|██████████| 8/8 [00:00<00:00, 23.60it/s]\n",
      "100%|██████████| 8/8 [00:00<00:00, 24.39it/s]\n",
      "100%|██████████| 8/8 [00:00<00:00, 24.92it/s]\n",
      "100%|██████████| 8/8 [00:00<00:00, 24.86it/s]\n",
      "100%|██████████| 8/8 [00:00<00:00, 24.81it/s]\n",
      "100%|██████████| 8/8 [00:00<00:00, 24.57it/s]\n",
      "100%|██████████| 8/8 [00:00<00:00, 24.24it/s]\n",
      "100%|██████████| 8/8 [00:00<00:00, 24.47it/s]\n",
      "100%|██████████| 8/8 [00:02<00:00,  3.04it/s]\n",
      "100%|██████████| 8/8 [00:00<00:00, 24.32it/s]\n",
      "100%|██████████| 8/8 [00:00<00:00, 24.48it/s]\n",
      "100%|██████████| 8/8 [00:00<00:00, 24.38it/s]\n",
      "100%|██████████| 8/8 [00:00<00:00, 24.19it/s]\n",
      "100%|██████████| 8/8 [00:00<00:00, 24.37it/s]\n",
      "100%|██████████| 8/8 [00:00<00:00, 23.77it/s]\n",
      "100%|██████████| 8/8 [00:00<00:00, 24.29it/s]\n",
      "100%|██████████| 8/8 [00:00<00:00, 24.18it/s]\n",
      "100%|██████████| 8/8 [00:02<00:00,  3.02it/s]\n"
     ]
    }
   ],
   "source": [
    "N_low = 40\n",
    "N_high = 160\n",
    "scale = 4\n",
    "\n",
    "# Code downscaling matrix\n",
    "'''H = np.zeros((N_low*N_low, N_high*N_high))\n",
    "\n",
    "submatrix = np.zeros((N_low,N_high))\n",
    "for i in range(N_low):\n",
    "    submatrix[i,scale*i] = 1\n",
    "    \n",
    "for j in range(N_low):\n",
    "    H[N_low*j:N_low*(j+1),N_high*scale*j:N_high*(scale*j+1)] = submatrix'''\n",
    "    \n",
    "for a in [4,8]:\n",
    "    for b in tqdm(range(1,9)):\n",
    "        for c in tqdm(range(1,9)):\n",
    "            w_low = generate_data(N_low,a,b,c)[0]\n",
    "            b_high = create_forcing_term(N_high,a,b,c)\n",
    "            b_low = create_forcing_term(N_low,a,b,c)\n",
    "            \n",
    "            if a==4 and b == 1 and c == 1:\n",
    "                total_low = w_low.reshape(1,N_low,N_low)\n",
    "                total_high_forcing = b_high.reshape(1,N_high**2,1)\n",
    "                total_low_forcing = b_low.reshape(1,N_low**2,1)\n",
    "            else:\n",
    "                total_low = np.concatenate([total_low,w_low.reshape(1,N_low,N_low)],axis=0)\n",
    "                total_high_forcing = np.concatenate([total_high_forcing,b_high.reshape(1,N_high**2,1)],axis=0)\n",
    "                total_low_forcing = np.concatenate([total_low_forcing,b_low.reshape(1,N_low**2,1)],axis=0)"
   ]
  },
  {
   "cell_type": "code",
   "execution_count": 9,
   "metadata": {},
   "outputs": [],
   "source": [
    "with h5py.File(\"data/40_160_low_forcing_withlow.h5\", 'w') as hf:\n",
    "    hf.create_dataset(\"low_res\",  data=total_low)\n",
    "    hf.create_dataset(\"high_forcing\", data=total_high_forcing)\n",
    "    hf.create_dataset(\"low_forcing\", data=total_low_forcing)"
   ]
  },
  {
   "cell_type": "code",
   "execution_count": null,
   "metadata": {},
   "outputs": [],
   "source": []
  }
 ],
 "metadata": {
  "kernelspec": {
   "display_name": "torch",
   "language": "python",
   "name": "python3"
  },
  "language_info": {
   "codemirror_mode": {
    "name": "ipython",
    "version": 3
   },
   "file_extension": ".py",
   "mimetype": "text/x-python",
   "name": "python",
   "nbconvert_exporter": "python",
   "pygments_lexer": "ipython3",
   "version": "3.9.0"
  }
 },
 "nbformat": 4,
 "nbformat_minor": 2
}
